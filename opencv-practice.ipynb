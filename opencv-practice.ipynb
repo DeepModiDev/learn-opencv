{
 "cells": [
  {
   "cell_type": "code",
   "execution_count": 1,
   "source": [
    "import cv2"
   ],
   "outputs": [],
   "metadata": {}
  },
  {
   "cell_type": "markdown",
   "source": [
    "### Read Images"
   ],
   "metadata": {}
  },
  {
   "cell_type": "code",
   "execution_count": 4,
   "source": [
    "img = cv2.imread(\"media/mango.jpg\")"
   ],
   "outputs": [],
   "metadata": {}
  },
  {
   "cell_type": "code",
   "execution_count": 5,
   "source": [
    "(width,height,depth) = img.shape"
   ],
   "outputs": [],
   "metadata": {}
  },
  {
   "cell_type": "code",
   "execution_count": 6,
   "source": [
    "print(\"Image width: \",width)\r\n",
    "print(\"Image height: \",height)\r\n",
    "print(\"Image depth: \",depth)"
   ],
   "outputs": [
    {
     "output_type": "stream",
     "name": "stdout",
     "text": [
      "Image width:  1000\n",
      "Image height:  1000\n",
      "Image depth:  3\n"
     ]
    }
   ],
   "metadata": {}
  },
  {
   "cell_type": "code",
   "execution_count": 7,
   "source": [
    "cv2.imshow(\"capture\",img)\r\n",
    "cv2.waitKey(0)\r\n",
    "cv2.destroyAllWindows()"
   ],
   "outputs": [],
   "metadata": {}
  },
  {
   "cell_type": "markdown",
   "source": [
    "##### or"
   ],
   "metadata": {}
  },
  {
   "cell_type": "code",
   "execution_count": 8,
   "source": [
    "def showImg(image):\r\n",
    "    while True:\r\n",
    "        cv2.imshow(\"capture\",image)\r\n",
    "        key = cv2.waitKey(20)\r\n",
    "        if key == ord('q'):\r\n",
    "            break\r\n",
    "    cv2.destroyAllWindows()"
   ],
   "outputs": [],
   "metadata": {}
  },
  {
   "cell_type": "markdown",
   "source": [
    "### Write image"
   ],
   "metadata": {}
  },
  {
   "cell_type": "code",
   "execution_count": 9,
   "source": [
    "img = cv2.imread(\"media/mango.jpg\",cv2.IMREAD_GRAYSCALE)\r\n",
    "showImg(img)"
   ],
   "outputs": [],
   "metadata": {}
  },
  {
   "cell_type": "code",
   "execution_count": 11,
   "source": [
    "if cv2.imwrite(\"media/gray-mango.jpg\",img):\r\n",
    "    print(\"Images saved successfully.\")\r\n",
    "else:\r\n",
    "    print(\"Something goes wrong.\")"
   ],
   "outputs": [
    {
     "output_type": "stream",
     "name": "stdout",
     "text": [
      "Images saved successfully.\n"
     ]
    }
   ],
   "metadata": {}
  },
  {
   "cell_type": "markdown",
   "source": [
    "### Read Video"
   ],
   "metadata": {}
  },
  {
   "cell_type": "code",
   "execution_count": 3,
   "source": [
    "cap = cv2.VideoCapture(\"media/test_video.mp4\")\r\n",
    "\r\n",
    "while cap.isOpened():\r\n",
    "    ret,frame = cap.read()\r\n",
    "    if ret:\r\n",
    "        cv2.imshow(\"frames\",frame)\r\n",
    "        key = cv2.waitKey(20)\r\n",
    "        if key == ord('q'):\r\n",
    "            break\r\n",
    "    else:\r\n",
    "        break\r\n",
    "        \r\n",
    "cv2.destroyAllWindows()\r\n",
    "cap.release()"
   ],
   "outputs": [],
   "metadata": {}
  },
  {
   "cell_type": "markdown",
   "source": [
    "### Write video"
   ],
   "metadata": {}
  },
  {
   "cell_type": "code",
   "execution_count": 6,
   "source": [
    "cap = cv2.VideoCapture(0)\r\n",
    "\r\n",
    "if cap.isOpened():\r\n",
    "#     print(\"CAP_PROP_POS_AVI_RATIO: \",cap.get(2)) # CAP_PROP_POS_AVI_RATIO\r\n",
    "#     print(\"Width: \",cap.get(3)) # Width of the frame\r\n",
    "#     print(\"Height: \",cap.get(4)) # Height of the frame\r\n",
    "#     print(\"FPS: \",cap.get(5)) # CAP_PROP_FPS (Frames per second)\r\n",
    "#     print(\"4-character code of codec: \",cap.get(6))\r\n",
    "#     print(\"Number of frames in the video file: \",cap.get(7))\r\n",
    "#     print(\"\",cap.get(cv2.CAP_PROP_SETTINGS))\r\n",
    "    \r\n",
    "    print(cap.set(cv2.CAP_PROP_FRAME_WIDTH,1080))\r\n",
    "    print(cap.set(cv2.CAP_PROP_FRAME_HEIGHT,720))\r\n",
    "    \r\n",
    "    frame_width = int(cap.get(3))\r\n",
    "    frame_height = int(cap.get(4))\r\n",
    "    \r\n",
    "    frame_size = (frame_width,frame_height)\r\n",
    "    fps = 30\r\n",
    "    \r\n",
    "    output = cv2.VideoWriter(\"mummy_gray_output_video_xvid_1080x720_60.mp4\",cv2.VideoWriter_fourcc(*'XVID'),fps,frame_size,False) # isColored: False\r\n",
    "    \r\n",
    "    while cap.isOpened():\r\n",
    "        ret,frame = cap.read()\r\n",
    "\r\n",
    "        if ret:\r\n",
    "            frame = cv2.cvtColor(frame,cv2.COLOR_BGR2GRAY)\r\n",
    "            cv2.imshow(\"frame\",frame)\r\n",
    "            #frame = cv2.flip(frame, 0) # Flip the video frame\r\n",
    "            output.write(frame)\r\n",
    "            key = cv2.waitKey(27)\r\n",
    "            if key == ord('q'):\r\n",
    "                break\r\n",
    "        else:\r\n",
    "            break\r\n",
    "            \r\n",
    "    cap.release()\r\n",
    "    output.release()\r\n",
    "    cv2.destroyAllWindows()\r\n",
    "else:\r\n",
    "    print(\"Unable to read video.\")"
   ],
   "outputs": [
    {
     "output_type": "stream",
     "name": "stdout",
     "text": [
      "True\n",
      "True\n"
     ]
    }
   ],
   "metadata": {}
  },
  {
   "cell_type": "markdown",
   "source": [
    "### Drawing Functions in OpenCV"
   ],
   "metadata": {}
  },
  {
   "cell_type": "markdown",
   "source": [
    "Learn to draw different geometric shapes with OpenCV\n",
    "You will learn these functions : cv.line(), cv.circle() , cv.rectangle(), cv.ellipse(), cv.putText() etc"
   ],
   "metadata": {}
  },
  {
   "cell_type": "code",
   "execution_count": 15,
   "source": [
    "cap = cv2.VideoCapture(0)\r\n",
    "if cap.isOpened():\r\n",
    "    cap.set(3,1080)\r\n",
    "    cap.set(4,720)\r\n",
    "    \r\n",
    "    while cap.isOpened():\r\n",
    "        ret,frame = cap.read()\r\n",
    "        \r\n",
    "        if ret:\r\n",
    "            frame = cv2.line(frame, (20,20), (1060,20), (0,0,255), 2) # frame, left_point1, right_point2, color, thickness\r\n",
    "            frame = cv2.rectangle(frame, (20,30),(1060,480),(0,255,0), 2) # frame, left_point1, right_point2, color, thickness\r\n",
    "            frame = cv2.circle(frame, (520,240), 40, (0,255,0), -1) # frame, center of the circle,radius, color, thickness\r\n",
    "            cv2.imshow(\"frame\",frame)\r\n",
    "            key = cv2.waitKey(20)\r\n",
    "            if key == ord('q'):\r\n",
    "                break\r\n",
    "        else:\r\n",
    "            break\r\n",
    "    \r\n",
    "    cap.release()\r\n",
    "    cv2.destroyAllWindows()\r\n",
    "else:\r\n",
    "    print(\"Unable to open video stream\")"
   ],
   "outputs": [],
   "metadata": {}
  }
 ],
 "metadata": {
  "kernelspec": {
   "display_name": "Python 3 (ipykernel)",
   "language": "python",
   "name": "python3"
  },
  "language_info": {
   "codemirror_mode": {
    "name": "ipython",
    "version": 3
   },
   "file_extension": ".py",
   "mimetype": "text/x-python",
   "name": "python",
   "nbconvert_exporter": "python",
   "pygments_lexer": "ipython3",
   "version": "3.7.6"
  }
 },
 "nbformat": 4,
 "nbformat_minor": 2
}